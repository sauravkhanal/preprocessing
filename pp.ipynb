{
 "cells": [
  {
   "cell_type": "code",
   "execution_count": 1,
   "metadata": {},
   "outputs": [],
   "source": [
    "import preprocessing"
   ]
  },
  {
   "cell_type": "code",
   "execution_count": 2,
   "metadata": {},
   "outputs": [
    {
     "name": "stderr",
     "output_type": "stream",
     "text": [
      "100%|██████████| 7/7 [00:05<00:00,  1.38it/s]\n"
     ]
    }
   ],
   "source": [
    "preprocessing.preprocess_single_folder(folder_path=\"A:/preprocessing/train/x\",\n",
    "                                            save_folder_path=\"A:/preprocessing/train/from_x\",\n",
    "                                            power_law= True,\n",
    "                                            \n",
    "                                            \n",
    "\n",
    ")"
   ]
  },
  {
   "cell_type": "code",
   "execution_count": 4,
   "metadata": {},
   "outputs": [
    {
     "name": "stderr",
     "output_type": "stream",
     "text": [
      "100%|██████████| 94/94 [01:16<00:00,  1.23it/s]\n",
      "100%|██████████| 95/95 [01:24<00:00,  1.13it/s]\n",
      "100%|██████████| 95/95 [01:15<00:00,  1.26it/s]\n",
      "100%|██████████| 95/95 [01:22<00:00,  1.15it/s]\n",
      "100%|██████████| 100/100 [01:25<00:00,  1.16it/s]\n",
      "100%|██████████| 7/7 [00:06<00:00,  1.10it/s]\n",
      "100%|██████████| 7/7 [00:05<00:00,  1.26it/s]\n"
     ]
    }
   ],
   "source": [
    "preprocessing.preprocess_multiple_folder(folder_path =\"A:/preprocessing/train\")"
   ]
  }
 ],
 "metadata": {
  "kernelspec": {
   "display_name": "Python 3",
   "language": "python",
   "name": "python3"
  },
  "language_info": {
   "codemirror_mode": {
    "name": "ipython",
    "version": 3
   },
   "file_extension": ".py",
   "mimetype": "text/x-python",
   "name": "python",
   "nbconvert_exporter": "python",
   "pygments_lexer": "ipython3",
   "version": "3.10.8"
  },
  "orig_nbformat": 4,
  "vscode": {
   "interpreter": {
    "hash": "07860232d379e1fbe87a09ff7e95321c744388610fc5814a9cea3280a7a3e463"
   }
  }
 },
 "nbformat": 4,
 "nbformat_minor": 2
}
