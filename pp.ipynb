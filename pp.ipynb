{
 "cells": [
  {
   "cell_type": "code",
   "execution_count": 1,
   "metadata": {},
   "outputs": [],
   "source": [
    "import preprocessing"
   ]
  },
  {
   "cell_type": "code",
   "execution_count": 3,
   "metadata": {},
   "outputs": [
    {
     "name": "stderr",
     "output_type": "stream",
     "text": [
      "100%|██████████| 35/35 [00:30<00:00,  1.16it/s]\n"
     ]
    }
   ],
   "source": [
    "preprocessing.preprocess_single_folder(folder_path=\"A:/preprocessing/train/saurav forged\",\n",
    "                                            save_folder_path=\"A:/preprocessing/train/saurav forged\",\n",
    "                                            power_law= True,\n",
    "                                            \n",
    "                                            \n",
    "\n",
    ")"
   ]
  },
  {
   "cell_type": "code",
   "execution_count": 4,
   "metadata": {},
   "outputs": [
    {
     "name": "stderr",
     "output_type": "stream",
     "text": [
      "100%|██████████| 94/94 [01:16<00:00,  1.23it/s]\n",
      "100%|██████████| 95/95 [01:24<00:00,  1.13it/s]\n",
      "100%|██████████| 95/95 [01:15<00:00,  1.26it/s]\n",
      "100%|██████████| 95/95 [01:22<00:00,  1.15it/s]\n",
      "100%|██████████| 100/100 [01:25<00:00,  1.16it/s]\n",
      "100%|██████████| 7/7 [00:06<00:00,  1.10it/s]\n",
      "100%|██████████| 7/7 [00:05<00:00,  1.26it/s]\n"
     ]
    }
   ],
   "source": [
    "preprocessing.preprocess_multiple_folder(folder_path =\"A:/preprocessing/train\")"
   ]
  },
  {
   "cell_type": "code",
   "execution_count": 3,
   "metadata": {},
   "outputs": [],
   "source": [
    "preprocessing.preprocess_single_image(image_path=\"A:/preprocessing/14.png\",save_path='A:/preprocessing/train/abc')"
   ]
  },
  {
   "cell_type": "code",
   "execution_count": 12,
   "metadata": {},
   "outputs": [],
   "source": [
    "i=1\n",
    "preprocessing.preprocess_single_image(image_path = f'A:/signatures/s/1 ({i}).png', save_path=f'A:/signatures/s/x')"
   ]
  },
  {
   "cell_type": "code",
   "execution_count": 2,
   "metadata": {},
   "outputs": [
    {
     "name": "stdout",
     "output_type": "stream",
     "text": [
      "TOTAL NUMBER OF DIRECTORIES : 8\n",
      "Processing directory 1/8\n"
     ]
    },
    {
     "name": "stderr",
     "output_type": "stream",
     "text": [
      " 60%|██████    | 3/5 [00:02<00:01,  1.07it/s]\n"
     ]
    },
    {
     "ename": "KeyboardInterrupt",
     "evalue": "",
     "output_type": "error",
     "traceback": [
      "\u001b[1;31m---------------------------------------------------------------------------\u001b[0m",
      "\u001b[1;31mKeyboardInterrupt\u001b[0m                         Traceback (most recent call last)",
      "Cell \u001b[1;32mIn [2], line 1\u001b[0m\n\u001b[1;32m----> 1\u001b[0m preprocessing\u001b[39m.\u001b[39;49mpreprocess_multiple_folder(folder_path \u001b[39m=\u001b[39;49m\u001b[39m\"\u001b[39;49m\u001b[39mA:/preprocessing/test\u001b[39;49m\u001b[39m\"\u001b[39;49m)\n",
      "File \u001b[1;32ma:\\preprocessing\\preprocessing.py:167\u001b[0m, in \u001b[0;36mpreprocess_multiple_folder\u001b[1;34m(folder_path, final_img_size, power_law, segment, log_transform)\u001b[0m\n\u001b[0;32m    165\u001b[0m \u001b[39mprint\u001b[39m(\u001b[39m\"\u001b[39m\u001b[39mProcessing directory \u001b[39m\u001b[39m\"\u001b[39m \u001b[39m+\u001b[39m \u001b[39mstr\u001b[39m(index\u001b[39m+\u001b[39m\u001b[39m1\u001b[39m)\u001b[39m+\u001b[39m\u001b[39m\"\u001b[39m\u001b[39m/\u001b[39m\u001b[39m\"\u001b[39m\u001b[39m+\u001b[39m\u001b[39mstr\u001b[39m(\u001b[39mlen\u001b[39m(list_of_dirs)))\n\u001b[0;32m    166\u001b[0m path \u001b[39m=\u001b[39m os\u001b[39m.\u001b[39mpath\u001b[39m.\u001b[39mjoin(folder_path, dirs)\n\u001b[1;32m--> 167\u001b[0m preprocess_single_folder(folder_path\u001b[39m=\u001b[39;49mpath, save_folder_path\u001b[39m=\u001b[39;49mpath, final_img_size \u001b[39m=\u001b[39;49m final_img_size, power_law\u001b[39m=\u001b[39;49mpower_law, segment\u001b[39m=\u001b[39;49msegment, log_transform\u001b[39m=\u001b[39;49mlog_transform)\n",
      "File \u001b[1;32ma:\\preprocessing\\preprocessing.py:37\u001b[0m, in \u001b[0;36mpreprocess_single_folder\u001b[1;34m(folder_path, save_folder_path, final_img_size, power_law, segment, log_transform)\u001b[0m\n\u001b[0;32m     34\u001b[0m   img \u001b[39m=\u001b[39m img\u001b[39m.\u001b[39mastype(\u001b[39m'\u001b[39m\u001b[39muint8\u001b[39m\u001b[39m'\u001b[39m)\n\u001b[0;32m     36\u001b[0m \u001b[39m#denoising the grayscale image\u001b[39;00m\n\u001b[1;32m---> 37\u001b[0m img \u001b[39m=\u001b[39m cv2\u001b[39m.\u001b[39;49mfastNlMeansDenoising(img, \u001b[39mNone\u001b[39;49;00m, \u001b[39m10\u001b[39;49m, \u001b[39m21\u001b[39;49m)\n\u001b[0;32m     39\u001b[0m \u001b[39mif\u001b[39;00m (log_transform):\n\u001b[0;32m     40\u001b[0m     img \u001b[39m=\u001b[39m (np\u001b[39m.\u001b[39mlog(img\u001b[39m+\u001b[39m\u001b[39m1\u001b[39m)\u001b[39m/\u001b[39m(np\u001b[39m.\u001b[39mlog(\u001b[39m10\u001b[39m\u001b[39m+\u001b[39mnp\u001b[39m.\u001b[39mmax(img))))\u001b[39m*\u001b[39m\u001b[39m255\u001b[39m\n",
      "\u001b[1;31mKeyboardInterrupt\u001b[0m: "
     ]
    }
   ],
   "source": [
    "preprocessing.preprocess_multiple_folder(folder_path =\"A:/preprocessing/test\")"
   ]
  },
  {
   "cell_type": "code",
   "execution_count": null,
   "metadata": {},
   "outputs": [],
   "source": []
  },
  {
   "cell_type": "code",
   "execution_count": 1,
   "metadata": {},
   "outputs": [],
   "source": [
    "import resize"
   ]
  },
  {
   "cell_type": "code",
   "execution_count": 2,
   "metadata": {},
   "outputs": [
    {
     "name": "stderr",
     "output_type": "stream",
     "text": [
      "100%|██████████| 16/16 [00:00<00:00, 33.45it/s]\n"
     ]
    }
   ],
   "source": [
    "resize.resize_images(r\"C:\\Users\\Santosh Khanal\\Downloads\\Telegram Desktop\\scan\")"
   ]
  },
  {
   "cell_type": "code",
   "execution_count": 1,
   "metadata": {},
   "outputs": [],
   "source": [
    "import extract"
   ]
  },
  {
   "cell_type": "code",
   "execution_count": 4,
   "metadata": {},
   "outputs": [],
   "source": [
    "extract.extract_signature_from_image(r\"C:\\Users\\Santosh Khanal\\Downloads\\Telegram Desktop\\scan\\scan_1.jpg\", size = (220,220))"
   ]
  },
  {
   "cell_type": "markdown",
   "metadata": {},
   "source": [
    "doesn't work when there is space on path "
   ]
  },
  {
   "cell_type": "code",
   "execution_count": 25,
   "metadata": {},
   "outputs": [],
   "source": [
    "extract.extract_signature_from_directory(\"A:/preprocessing/scan\", size =  (220,220), margin = 15)"
   ]
  }
 ],
 "metadata": {
  "kernelspec": {
   "display_name": "Python 3",
   "language": "python",
   "name": "python3"
  },
  "language_info": {
   "codemirror_mode": {
    "name": "ipython",
    "version": 3
   },
   "file_extension": ".py",
   "mimetype": "text/x-python",
   "name": "python",
   "nbconvert_exporter": "python",
   "pygments_lexer": "ipython3",
   "version": "3.10.8"
  },
  "orig_nbformat": 4,
  "vscode": {
   "interpreter": {
    "hash": "07860232d379e1fbe87a09ff7e95321c744388610fc5814a9cea3280a7a3e463"
   }
  }
 },
 "nbformat": 4,
 "nbformat_minor": 2
}
